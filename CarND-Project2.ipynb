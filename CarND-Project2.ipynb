{
 "cells": [
  {
   "cell_type": "markdown",
   "metadata": {},
   "source": [
    "## Load Data\n",
    "\n",
    "Loading the data using given pickle files."
   ]
  },
  {
   "cell_type": "code",
   "execution_count": 1,
   "metadata": {
    "collapsed": false
   },
   "outputs": [
    {
     "name": "stdout",
     "output_type": "stream",
     "text": [
      "34799\n"
     ]
    }
   ],
   "source": [
    "# Load pickled data\n",
    "import pickle\n",
    "from sklearn.model_selection import train_test_split\n",
    "\n",
    "# TODO: Fill this in based on where you saved the training and testing data\n",
    "\n",
    "training_file = 'train.p'\n",
    "validation_file= 'valid.p'\n",
    "testing_file = 'test.p'\n",
    "\n",
    "with open(training_file, mode='rb') as f:\n",
    "    train = pickle.load(f)\n",
    "with open(validation_file, mode='rb') as f:\n",
    "    valid = pickle.load(f)\n",
    "with open(testing_file, mode='rb') as f:\n",
    "    test = pickle.load(f)\n",
    "    \n",
    "X_train, y_train = train['features'], train['labels']\n",
    "X_valid, y_valid = valid['features'], valid['labels']\n",
    "X_test, y_test = test['features'], test['labels']\n",
    "\n",
    "#X_train, X_valid, y_train, y_valid = train_test_split(X_train, y_train, \n",
    "#                                                                test_size=0.20, random_state=30)\n",
    "\n",
    "print(X_train.shape[0])"
   ]
  },
  {
   "cell_type": "markdown",
   "metadata": {},
   "source": [
    "Explore the data"
   ]
  },
  {
   "cell_type": "code",
   "execution_count": 2,
   "metadata": {
    "collapsed": false
   },
   "outputs": [
    {
     "name": "stdout",
     "output_type": "stream",
     "text": [
      "82.677589037\n",
      "Number of training examples = 34799\n",
      "Number of validation examples = 4410\n",
      "Number of testing examples = 12630\n",
      "Image data shape = (32, 32, 3)\n",
      "Number of classes = 43\n"
     ]
    }
   ],
   "source": [
    "### Replace each question mark with the appropriate value. \n",
    "### Use python, pandas or numpy methods rather than hard coding the results\n",
    "import numpy as np\n",
    "\n",
    "\n",
    "# TODO: Number of training examples\n",
    "\n",
    "n_train = X_train.shape[0]\n",
    "\n",
    "# TODO: Number of validation examples\n",
    "n_validation = X_valid.shape[0]\n",
    "\n",
    "# TODO: Number of testing examples.\n",
    "n_test = X_test.shape[0]\n",
    "\n",
    "# TODO: What's the shape of an traffic sign image?\n",
    "image_shape = X_train[0].shape\n",
    "\n",
    "# TODO: How many unique classes/labels there are in the dataset.\n",
    "n_classes = np.unique(y_train).shape[0]\n",
    "print(np.mean(X_train))\n",
    "\n",
    "print(\"Number of training examples =\", n_train)\n",
    "print(\"Number of validation examples =\", n_validation)\n",
    "print(\"Number of testing examples =\", n_test)\n",
    "print(\"Image data shape =\", image_shape)\n",
    "print(\"Number of classes =\", n_classes)"
   ]
  },
  {
   "cell_type": "markdown",
   "metadata": {},
   "source": [
    "## Visualize Data\n",
    "\n",
    "View a sample from the dataset.\n",
    "\n",
    "You do not need to modify this section."
   ]
  },
  {
   "cell_type": "code",
   "execution_count": 3,
   "metadata": {
    "collapsed": false
   },
   "outputs": [
    {
     "name": "stdout",
     "output_type": "stream",
     "text": [
      "1\n"
     ]
    },
    {
     "data": {
      "image/png": "[encoded data removed]",
      "text/plain": [
       "<matplotlib.figure.Figure at 0x7f6a20079128>"
      ]
     },
     "metadata": {},
     "output_type": "display_data"
    }
   ],
   "source": [
    "import random\n",
    "import numpy as np\n",
    "import matplotlib.pyplot as plt\n",
    "%matplotlib inline\n",
    "\n",
    "index = random.randint(0, len(X_train))\n",
    "image = X_train[index].squeeze()\n",
    "\n",
    "plt.figure(figsize=(1,1))\n",
    "plt.imshow(image, cmap=\"gray\")\n",
    "print(y_train[index])"
   ]
  },
  {
   "cell_type": "code",
   "execution_count": 4,
   "metadata": {
    "collapsed": false
   },
   "outputs": [
    {
     "data": {
      "image/png": "[encoded data removed]",
      "text/plain": [
       "<matplotlib.figure.Figure at 0x7f6a2010d6d8>"
      ]
     },
     "metadata": {},
     "output_type": "display_data"
    }
   ],
   "source": [
    "# Histogram of how the train data is distributed amung the classes.\n",
    "hist, bins = np.histogram(y_train, bins=n_classes)\n",
    "width = 0.7 * (bins[1] - bins[0])\n",
    "center = (bins[:-1] + bins[1:]) / 2\n",
    "plt.bar(center, hist, align='center', width=width)\n",
    "plt.show()"
   ]
  },
  {
   "cell_type": "markdown",
   "metadata": {},
   "source": [
    "Data set is pretty imbalance. During pre processing I am trying to get this close to balance for a better preformce. I am trying to get low capacity classes up by adding some augmented data."
   ]
  },
  {
   "cell_type": "markdown",
   "metadata": {},
   "source": [
    "## Preprocess Data\n",
    "\n",
    "Shuffle the training data.\n",
    "\n",
    "You do not need to modify this section."
   ]
  },
  {
   "cell_type": "code",
   "execution_count": 5,
   "metadata": {
    "collapsed": false
   },
   "outputs": [],
   "source": [
    "from sklearn.utils import shuffle\n",
    "\n",
    "X_train, y_train = shuffle(X_train, y_train)"
   ]
  },
  {
   "cell_type": "code",
   "execution_count": 6,
   "metadata": {
    "collapsed": false
   },
   "outputs": [
    {
     "name": "stdout",
     "output_type": "stream",
     "text": [
      "(32, 32)\n",
      "10\n",
      "81.9172385241\n"
     ]
    },
    {
     "data": {
      "image/png": "[encoded data removed]",
      "text/plain": [
       "<matplotlib.figure.Figure at 0x7f69e5279898>"
      ]
     },
     "metadata": {},
     "output_type": "display_data"
    }
   ],
   "source": [
    "# convert to Grey scale\n",
    "\n",
    "import cv2\n",
    "\n",
    "def greyscale(x):\n",
    "    res = []\n",
    "    for i in range(0, len(x)):\n",
    "        res.append(cv2.cvtColor(x[i], cv2.COLOR_RGB2GRAY))\n",
    "    res = np.reshape(res,[-1,32,32,1])\n",
    "    return res\n",
    "\n",
    "X_train = greyscale(X_train)\n",
    "X_valid = greyscale(X_valid)\n",
    "X_test  = greyscale(X_test)\n",
    "        \n",
    "index = random.randint(0, len(X_valid))\n",
    "image = X_valid[index].squeeze()\n",
    "\n",
    "plt.figure(figsize=(1,1))\n",
    "plt.imshow(image, cmap = 'gray')\n",
    "\n",
    "print(image.shape)\n",
    "print(y_train[index]) \n",
    "\n",
    "print(np.mean(X_train))"
   ]
  },
  {
   "cell_type": "code",
   "execution_count": 7,
   "metadata": {
    "collapsed": false
   },
   "outputs": [
    {
     "name": "stdout",
     "output_type": "stream",
     "text": [
      "(34799, 32, 32, 1)\n",
      "9\n",
      "(34799, 32, 32, 1)\n",
      "0.297134071736\n"
     ]
    },
    {
     "data": {
      "image/png": "[encoded data removed]",
      "text/plain": [
       "<matplotlib.figure.Figure at 0x7f69e52da6d8>"
      ]
     },
     "metadata": {},
     "output_type": "display_data"
    }
   ],
   "source": [
    "### Preprocess the data here. It is required to normalize the data. Other preprocessing steps could include \n",
    "\n",
    "def normalize(x):\n",
    "    #.astype(np.uint8)\n",
    "    x = (x - 255) / 255\n",
    "    return x\n",
    "\n",
    "X_train = normalize(X_train)\n",
    "X_valid = normalize(X_valid)\n",
    "X_test  = normalize(X_test)\n",
    "\n",
    "\n",
    "\n",
    "print(X_train.shape)\n",
    "\n",
    "\n",
    "index = random.randint(0, len(X_train))\n",
    "image = X_train[index].squeeze()\n",
    "\n",
    "plt.figure(figsize=(1,1))\n",
    "plt.imshow(image, cmap = 'gray')\n",
    "print(y_train[index])\n",
    "### converting to grayscale, etc.\n",
    "### Feel free to use as many code cells as needed.\n",
    "print(X_train.shape)\n",
    "print(np.mean(X_train))"
   ]
  },
  {
   "cell_type": "code",
   "execution_count": 8,
   "metadata": {
    "collapsed": false
   },
   "outputs": [
    {
     "name": "stdout",
     "output_type": "stream",
     "text": [
      "9\n"
     ]
    },
    {
     "data": {
      "image/png": "[encoded data removed]",
      "text/plain": [
       "<matplotlib.figure.Figure at 0x7f69e5321400>"
      ]
     },
     "metadata": {},
     "output_type": "display_data"
    }
   ],
   "source": [
    "index = random.randint(0, len(X_train))\n",
    "image = X_train[index].squeeze()\n",
    "\n",
    "plt.figure(figsize=(1,1))\n",
    "plt.imshow(image, cmap = 'gray')\n",
    "print(y_train[index])"
   ]
  },
  {
   "cell_type": "code",
   "execution_count": 9,
   "metadata": {
    "collapsed": false
   },
   "outputs": [
    {
     "data": {
      "text/plain": [
       "<matplotlib.text.Text at 0x7f69e479c2b0>"
      ]
     },
     "execution_count": 9,
     "metadata": {},
     "output_type": "execute_result"
    },
    {
     "data": {
      "image/png": "[encoded data removed]",
      "text/plain": [
       "<matplotlib.figure.Figure at 0x7f69e8d52048>"
      ]
     },
     "metadata": {},
     "output_type": "display_data"
    }
   ],
   "source": [
    "#Couple of Augmentation methods are being used in the below sections.\n",
    "# Adapted the algorythms from different sources in the internet. Not my code most of the time. \n",
    "# https://github.com/benanne/kaggle-ndsb/blob/master/data.py#L315-L323\n",
    "def scale(img):   \n",
    "    rows,cols,_ = img.shape\n",
    "    px = np.random.randint(-2,2)\n",
    "    p1 = np.float32([[px,px],[rows-px,px],[px,cols-px],[rows-px,cols-px]])\n",
    "    p2 = np.float32([[0,0],[rows,0],[0,cols],[rows,cols]])\n",
    "    M = cv2.getPerspectiveTransform(p1,p2)\n",
    "    dst = cv2.warpPerspective(img,M,(rows,cols))\n",
    "    dst = dst[:,:,np.newaxis]\n",
    "    return dst\n",
    "\n",
    "index = random.randint(0, len(X_train))\n",
    "test  = X_train[index]\n",
    "tns   = scale(test)\n",
    "\n",
    "fig, axs = plt.subplots(1,2, figsize=(10, 3))\n",
    "\n",
    "axs[0].axis('off')\n",
    "axs[0].imshow(test.squeeze(), cmap='gray')\n",
    "axs[0].set_title('original')\n",
    "\n",
    "axs[1].axis('off')\n",
    "axs[1].imshow(tns.squeeze(), cmap='gray')\n",
    "axs[1].set_title('scaled')"
   ]
  },
  {
   "cell_type": "code",
   "execution_count": null,
   "metadata": {
    "collapsed": true
   },
   "outputs": [],
   "source": []
  },
  {
   "cell_type": "code",
   "execution_count": 10,
   "metadata": {
    "collapsed": false
   },
   "outputs": [
    {
     "name": "stdout",
     "output_type": "stream",
     "text": [
      "(32, 32, 1)\n"
     ]
    },
    {
     "data": {
      "text/plain": [
       "<matplotlib.text.Text at 0x7f69c5811b70>"
      ]
     },
     "execution_count": 10,
     "metadata": {},
     "output_type": "execute_result"
    },
    {
     "data": {
      "image/png": "[encoded data removed]",
      "text/plain": [
       "<matplotlib.figure.Figure at 0x7f69e46eae10>"
      ]
     },
     "metadata": {},
     "output_type": "display_data"
    }
   ],
   "source": [
    "# Random Warp\n",
    "def warp(img):\n",
    "    \n",
    "    rows,cols,_ = img.shape\n",
    "    x = np.random.rand(3) - 0.5\n",
    "    x *= cols * 0.06   \n",
    "    y = np.random.rand(3) - 0.5\n",
    "    y *= rows * 0.06\n",
    "    x1 = cols/4\n",
    "    x2 = 3*cols/4\n",
    "    y1 = rows/4\n",
    "    y2 = 3*rows/4\n",
    "    p1 = np.float32([[y1,x1],\n",
    "                       [y2,x1],\n",
    "                       [y1,x2]])\n",
    "    p2 = np.float32([[y1+y[0],x1+x[0]],\n",
    "                       [y2+y[1],x1+x[1]],\n",
    "                       [y1+y[2],x2+x[2]]])\n",
    "    M = cv2.getAffineTransform(p1,p2)\n",
    "\n",
    "    dst = cv2.warpAffine(img,M,(cols,rows))\n",
    "    \n",
    "    dst = dst[:,:,np.newaxis]\n",
    "    \n",
    "    return dst\n",
    "\n",
    "index = random.randint(0, len(X_train))\n",
    "test  = X_train[index]\n",
    "tns   = warp(test)\n",
    "\n",
    "print(tns.shape)\n",
    "\n",
    "fig, axs = plt.subplots(1,2, figsize=(10, 3))\n",
    "\n",
    "axs[0].axis('off')\n",
    "axs[0].imshow(test.squeeze(), cmap='gray')\n",
    "axs[0].set_title('original')\n",
    "\n",
    "axs[1].axis('off')\n",
    "axs[1].imshow(tns.squeeze(), cmap='gray')\n",
    "axs[1].set_title('warped')"
   ]
  },
  {
   "cell_type": "code",
   "execution_count": null,
   "metadata": {
    "collapsed": false
   },
   "outputs": [],
   "source": [
    "#I Dont think this is neccesary. Experimented with this but It ruins the image \n",
    "#Histogram Equalization\n",
    "def histEquel(img):\n",
    "    \n",
    "    res = cv2.equalizeHist(img)\n",
    "    res = np.reshape(res,[32,32,1])\n",
    "    return res\n",
    "\n",
    "index = random.randint(0, len(X_train))\n",
    "test  = X_train[index]\n",
    "tns   = histEquel(test)\n",
    "\n",
    "print(tns.shape)\n",
    "\n",
    "fig, axs = plt.subplots(1,2, figsize=(10, 3))\n",
    "\n",
    "axs[0].axis('off')\n",
    "axs[0].imshow(test.squeeze(), cmap='gray')\n",
    "axs[0].set_title('original')\n",
    "\n",
    "axs[1].axis('off')\n",
    "axs[1].imshow(tns.squeeze(), cmap='gray')\n",
    "axs[1].set_title('HistEquel')"
   ]
  },
  {
   "cell_type": "markdown",
   "metadata": {},
   "source": [
    "## Augmentation\n",
    "\n",
    "If the example count of a given class is less than 800, which is the average sample size, I apply random Augmentation to increase the number of examples, so the dataset will be more balanced. "
   ]
  },
  {
   "cell_type": "code",
   "execution_count": 11,
   "metadata": {
    "collapsed": false
   },
   "outputs": [
    {
     "name": "stdout",
     "output_type": "stream",
     "text": [
      "(46480, 32, 32, 1)\n"
     ]
    }
   ],
   "source": [
    "for class_n in range(n_classes):\n",
    "    class_indices = np.where(y_train == class_n)\n",
    "    class_len     = len(class_indices[0])\n",
    "    #Average sample size is around 800 (34799/43)\n",
    "    if class_len < 800:\n",
    "        #Here I randomly pick an image from the list that belongs a given class \n",
    "        #apply the augmentation and append the new image to the training set. \n",
    "        #We have to do it untill we reach the number 800\n",
    "        for i in range(800 - class_len):\n",
    "            index     = random.randint(0, class_len-1)\n",
    "            #print(index)\n",
    "            new_image = scale(warp(X_train[class_indices[0][index]]))\n",
    "            X_train = np.concatenate((X_train, [new_image]), axis=0)\n",
    "            y_train = np.concatenate((y_train, [class_n]), axis=0)\n",
    "        \n",
    "print(X_train.shape)\n",
    "    "
   ]
  },
  {
   "cell_type": "code",
   "execution_count": 13,
   "metadata": {
    "collapsed": false
   },
   "outputs": [],
   "source": [
    "#Save new data so I dont have to do the above step all over again. \n",
    "\n",
    "new_train = {'features': X_train,\n",
    "             'labels': y_train}\n",
    "\n",
    "pickle.dump(new_train, open( \"new_train.p\", \"wb\" ) )"
   ]
  },
  {
   "cell_type": "code",
   "execution_count": 17,
   "metadata": {
    "collapsed": false
   },
   "outputs": [
    {
     "name": "stdout",
     "output_type": "stream",
     "text": [
      "(46480, 32, 32, 1)\n"
     ]
    }
   ],
   "source": [
    "new_training_file = 'new_train.p'\n",
    "with open(new_training_file, mode='rb') as f:\n",
    "    train = pickle.load(f)\n",
    "    \n",
    "X_train, y_train = train['features'], train['labels']    \n",
    "\n",
    "print(X_train.shape)"
   ]
  },
  {
   "cell_type": "code",
   "execution_count": 18,
   "metadata": {
    "collapsed": false
   },
   "outputs": [
    {
     "data": {
      "image/png": "[encoded data removed]",
      "text/plain": [
       "<matplotlib.figure.Figure at 0x7f69c5a987f0>"
      ]
     },
     "metadata": {},
     "output_type": "display_data"
    }
   ],
   "source": [
    "# The New histogram after augmentation.\n",
    "hist, bins = np.histogram(y_train, bins=n_classes)\n",
    "width = 0.7 * (bins[1] - bins[0])\n",
    "center = (bins[:-1] + bins[1:]) / 2\n",
    "plt.bar(center, hist, align='center', width=width)\n",
    "plt.show()"
   ]
  },
  {
   "cell_type": "code",
   "execution_count": 19,
   "metadata": {
    "collapsed": false
   },
   "outputs": [
    {
     "name": "stdout",
     "output_type": "stream",
     "text": [
      "(46480, 32, 32, 1)\n"
     ]
    }
   ],
   "source": [
    "#New Training Data set\n",
    "print(X_train.shape)"
   ]
  },
  {
   "cell_type": "code",
   "execution_count": 20,
   "metadata": {
    "collapsed": false
   },
   "outputs": [
    {
     "name": "stdout",
     "output_type": "stream",
     "text": [
      "(37184, 32, 32, 1)\n",
      "(9296, 32, 32, 1)\n"
     ]
    }
   ],
   "source": [
    "X_train, X_valid, y_train, y_valid = train_test_split(X_train, y_train, \n",
    "                                                               test_size=0.20, random_state=40)\n",
    "X_train, y_train = shuffle(X_train, y_train)\n",
    "\n",
    "print(X_train.shape)\n",
    "print(X_valid.shape)"
   ]
  },
  {
   "cell_type": "markdown",
   "metadata": {},
   "source": [
    "## Setup TensorFlow\n",
    "The `EPOCH` and `BATCH_SIZE` values affect the training speed and model accuracy.\n",
    "\n",
    "You do not need to modify this section."
   ]
  },
  {
   "cell_type": "code",
   "execution_count": 21,
   "metadata": {
    "collapsed": true
   },
   "outputs": [],
   "source": [
    "import tensorflow as tf\n",
    "\n",
    "EPOCHS = 60\n",
    "BATCH_SIZE = 100"
   ]
  },
  {
   "cell_type": "markdown",
   "metadata": {},
   "source": [
    "## Design and implement the model"
   ]
  },
  {
   "cell_type": "code",
   "execution_count": 22,
   "metadata": {
    "collapsed": true
   },
   "outputs": [],
   "source": [
    "from tensorflow.contrib.layers import flatten\n",
    "\n",
    "def LeNet(x):    \n",
    "    # Arguments used for tf.truncated_normal, randomly defines variables for the weights and biases for each layer\n",
    "    mu = 0\n",
    "    sigma = 0.1\n",
    "    \n",
    "    # SOLUTION: Layer 1: Convolutional. Input = 32x32x1. Output = 28x28x6.\n",
    "    conv1_W = tf.Variable(tf.truncated_normal(shape=(5, 5, 1, 6), mean = mu, stddev = sigma))\n",
    "    conv1_b = tf.Variable(tf.zeros(6))\n",
    "    conv1   = tf.nn.conv2d(x, conv1_W, strides=[1, 1, 1, 1], padding='VALID') + conv1_b\n",
    "\n",
    "    # SOLUTION: Activation.\n",
    "    conv1 = tf.nn.relu(conv1)\n",
    "\n",
    "    # SOLUTION: Pooling. Input = 28x28x6. Output = 14x14x6.\n",
    "    conv1 = tf.nn.max_pool(conv1, ksize=[1, 2, 2, 1], strides=[1, 2, 2, 1], padding='VALID')\n",
    "\n",
    "    # SOLUTION: Layer 2: Convolutional. Output = 10x10x16.\n",
    "    conv2_W = tf.Variable(tf.truncated_normal(shape=(5, 5, 6, 16), mean = mu, stddev = sigma))\n",
    "    conv2_b = tf.Variable(tf.zeros(16))\n",
    "    conv2   = tf.nn.conv2d(conv1, conv2_W, strides=[1, 1, 1, 1], padding='VALID') + conv2_b\n",
    "    \n",
    "    # SOLUTION: Activation.\n",
    "    conv2 = tf.nn.relu(conv2)\n",
    "\n",
    "    # SOLUTION: Pooling. Input = 10x10x16. Output = 5x5x16.\n",
    "    conv2 = tf.nn.max_pool(conv2, ksize=[1, 2, 2, 1], strides=[1, 2, 2, 1], padding='VALID')\n",
    "\n",
    "    \n",
    "    # TODO: Layer 3: Convolutional. Output = 1x1x400.\n",
    "    conv3_w = tf.Variable(tf.truncated_normal(shape=(5, 5, 16, 400), mean = mu, stddev = sigma))\n",
    "    conv3_b = tf.Variable(tf.zeros(400)) \n",
    "    conv3 = tf.nn.conv2d(conv2, conv3_w, strides=[1, 1, 1, 1], padding='VALID') + conv3_b\n",
    "\n",
    "                     \n",
    "    # TODO: Activation.\n",
    "    conv3 = tf.nn.relu(conv3)\n",
    "\n",
    "\n",
    "    # TODO: Flatten. Input = 5x5x16. Output = 400.\n",
    "    conv2flat = flatten(conv2)\n",
    "\n",
    "    \n",
    "    # Flatten x. Input = 1x1x400. Output = 400.\n",
    "    conv3flat = flatten(conv3)\n",
    "    \n",
    "\n",
    "    # Concat conv2flat and conv3flat. Input = 400 and 400. Output = 800\n",
    "    fc0 = tf.concat_v2([conv2flat, conv3flat], 1)\n",
    "    \n",
    "    #Dropout\n",
    "    fc0    = tf.nn.dropout(fc0, keep_prob)\n",
    "    \n",
    "    # SOLUTION: Layer 3: Fully Connected. Input = 800. Output = 43.\n",
    "    fc1_W = tf.Variable(tf.truncated_normal(shape=(800, 43), mean = mu, stddev = sigma))\n",
    "    fc1_b = tf.Variable(tf.zeros(43))\n",
    "    logits   = tf.matmul(fc0, fc1_W) + fc1_b\n",
    "    \n",
    "    \n",
    "    return logits"
   ]
  },
  {
   "cell_type": "markdown",
   "metadata": {},
   "source": [
    "## Features and Labels\n",
    "\n",
    "\n",
    "`x` is a placeholder for a batch of input images.\n",
    "`y` is a placeholder for a batch of output labels.\n",
    "\n"
   ]
  },
  {
   "cell_type": "code",
   "execution_count": 25,
   "metadata": {
    "collapsed": false
   },
   "outputs": [],
   "source": [
    "x = tf.placeholder(tf.float32, (None, 32, 32, 1))\n",
    "y = tf.placeholder(tf.int32, (None))\n",
    "keep_prob = tf.placeholder(tf.float32)\n",
    "one_hot_y = tf.one_hot(y, 43)"
   ]
  },
  {
   "cell_type": "markdown",
   "metadata": {},
   "source": [
    "## Training Pipeline\n"
   ]
  },
  {
   "cell_type": "code",
   "execution_count": 26,
   "metadata": {
    "collapsed": false
   },
   "outputs": [],
   "source": [
    "rate = 0.0009\n",
    "\n",
    "logits = LeNet(x)\n",
    "cross_entropy = tf.nn.softmax_cross_entropy_with_logits(logits=logits, labels=one_hot_y)\n",
    "loss_operation = tf.reduce_mean(cross_entropy)\n",
    "optimizer = tf.train.AdamOptimizer(learning_rate = rate)\n",
    "training_operation = optimizer.minimize(loss_operation)"
   ]
  },
  {
   "cell_type": "markdown",
   "metadata": {},
   "source": [
    "## Model Evaluation\n",
    "Evaluate how well the loss and accuracy of the model for a given dataset.\n",
    "\n",
    "You do not need to modify this section."
   ]
  },
  {
   "cell_type": "code",
   "execution_count": 29,
   "metadata": {
    "collapsed": true
   },
   "outputs": [],
   "source": [
    "correct_prediction = tf.equal(tf.argmax(logits, 1), tf.argmax(one_hot_y, 1))\n",
    "accuracy_operation = tf.reduce_mean(tf.cast(correct_prediction, tf.float32))\n",
    "saver = tf.train.Saver()\n",
    "\n",
    "def evaluate(X_data, y_data):\n",
    "    num_examples = len(X_data)\n",
    "    #print(num_examples)\n",
    "    total_accuracy = 0\n",
    "    sess = tf.get_default_session()\n",
    "    for offset in range(0, num_examples, BATCH_SIZE):\n",
    "        batch_x, batch_y = X_data[offset:offset+BATCH_SIZE], y_data[offset:offset+BATCH_SIZE]\n",
    "        accuracy = sess.run(accuracy_operation, feed_dict={x: batch_x, y: batch_y, keep_prob:1.0})\n",
    "        #print(accuracy)\n",
    "        total_accuracy += (accuracy * len(batch_x))\n",
    "    return total_accuracy / num_examples"
   ]
  },
  {
   "cell_type": "markdown",
   "metadata": {},
   "source": [
    "## Train the Model\n",
    "Run the training data through the training pipeline to train the model.\n",
    "\n",
    "Before each epoch, shuffle the training set.\n",
    "\n",
    "After each epoch, measure the loss and accuracy of the validation set.\n",
    "\n",
    "Save the model after training.\n",
    "\n",
    "You do not need to modify this section."
   ]
  },
  {
   "cell_type": "code",
   "execution_count": 30,
   "metadata": {
    "collapsed": false
   },
   "outputs": [
    {
     "name": "stdout",
     "output_type": "stream",
     "text": [
      "Training...\n",
      "\n",
      "EPOCH 1 ...\n",
      "Validation Accuracy = 0.810\n",
      "\n",
      "EPOCH 2 ...\n",
      "Validation Accuracy = 0.913\n",
      "\n",
      "EPOCH 3 ...\n",
      "Validation Accuracy = 0.953\n",
      "\n",
      "EPOCH 4 ...\n",
      "Validation Accuracy = 0.967\n",
      "\n",
      "EPOCH 5 ...\n",
      "Validation Accuracy = 0.968\n",
      "\n",
      "EPOCH 6 ...\n",
      "Validation Accuracy = 0.973\n",
      "\n",
      "EPOCH 7 ...\n",
      "Validation Accuracy = 0.980\n",
      "\n",
      "EPOCH 8 ...\n",
      "Validation Accuracy = 0.981\n",
      "\n",
      "EPOCH 9 ...\n",
      "Validation Accuracy = 0.983\n",
      "\n",
      "EPOCH 10 ...\n",
      "Validation Accuracy = 0.984\n",
      "\n",
      "EPOCH 11 ...\n",
      "Validation Accuracy = 0.985\n",
      "\n",
      "EPOCH 12 ...\n",
      "Validation Accuracy = 0.984\n",
      "\n",
      "EPOCH 13 ...\n",
      "Validation Accuracy = 0.988\n",
      "\n",
      "EPOCH 14 ...\n",
      "Validation Accuracy = 0.988\n",
      "\n",
      "EPOCH 15 ...\n",
      "Validation Accuracy = 0.986\n",
      "\n",
      "EPOCH 16 ...\n",
      "Validation Accuracy = 0.988\n",
      "\n",
      "EPOCH 17 ...\n",
      "Validation Accuracy = 0.988\n",
      "\n",
      "EPOCH 18 ...\n",
      "Validation Accuracy = 0.989\n",
      "\n",
      "EPOCH 19 ...\n",
      "Validation Accuracy = 0.988\n",
      "\n",
      "EPOCH 20 ...\n",
      "Validation Accuracy = 0.987\n",
      "\n",
      "EPOCH 21 ...\n",
      "Validation Accuracy = 0.989\n",
      "\n",
      "EPOCH 22 ...\n",
      "Validation Accuracy = 0.988\n",
      "\n",
      "EPOCH 23 ...\n",
      "Validation Accuracy = 0.987\n",
      "\n",
      "EPOCH 24 ...\n",
      "Validation Accuracy = 0.989\n",
      "\n",
      "EPOCH 25 ...\n",
      "Validation Accuracy = 0.989\n",
      "\n",
      "EPOCH 26 ...\n",
      "Validation Accuracy = 0.989\n",
      "\n",
      "EPOCH 27 ...\n",
      "Validation Accuracy = 0.990\n",
      "\n",
      "EPOCH 28 ...\n",
      "Validation Accuracy = 0.989\n",
      "\n",
      "EPOCH 29 ...\n",
      "Validation Accuracy = 0.990\n",
      "\n",
      "EPOCH 30 ...\n",
      "Validation Accuracy = 0.991\n",
      "\n",
      "EPOCH 31 ...\n",
      "Validation Accuracy = 0.989\n",
      "\n",
      "EPOCH 32 ...\n",
      "Validation Accuracy = 0.990\n",
      "\n",
      "EPOCH 33 ...\n",
      "Validation Accuracy = 0.988\n",
      "\n",
      "EPOCH 34 ...\n",
      "Validation Accuracy = 0.991\n",
      "\n",
      "EPOCH 35 ...\n",
      "Validation Accuracy = 0.989\n",
      "\n",
      "EPOCH 36 ...\n",
      "Validation Accuracy = 0.990\n",
      "\n",
      "EPOCH 37 ...\n",
      "Validation Accuracy = 0.990\n",
      "\n",
      "EPOCH 38 ...\n",
      "Validation Accuracy = 0.991\n",
      "\n",
      "EPOCH 39 ...\n",
      "Validation Accuracy = 0.991\n",
      "\n",
      "EPOCH 40 ...\n",
      "Validation Accuracy = 0.991\n",
      "\n",
      "EPOCH 41 ...\n",
      "Validation Accuracy = 0.992\n",
      "\n",
      "EPOCH 42 ...\n",
      "Validation Accuracy = 0.991\n",
      "\n",
      "EPOCH 43 ...\n",
      "Validation Accuracy = 0.990\n",
      "\n",
      "EPOCH 44 ...\n",
      "Validation Accuracy = 0.992\n",
      "\n",
      "EPOCH 45 ...\n",
      "Validation Accuracy = 0.992\n",
      "\n",
      "EPOCH 46 ...\n",
      "Validation Accuracy = 0.991\n",
      "\n",
      "EPOCH 47 ...\n",
      "Validation Accuracy = 0.991\n",
      "\n",
      "EPOCH 48 ...\n",
      "Validation Accuracy = 0.992\n",
      "\n",
      "EPOCH 49 ...\n",
      "Validation Accuracy = 0.991\n",
      "\n",
      "EPOCH 50 ...\n",
      "Validation Accuracy = 0.992\n",
      "\n",
      "EPOCH 51 ...\n",
      "Validation Accuracy = 0.992\n",
      "\n",
      "EPOCH 52 ...\n",
      "Validation Accuracy = 0.991\n",
      "\n",
      "EPOCH 53 ...\n",
      "Validation Accuracy = 0.992\n",
      "\n",
      "EPOCH 54 ...\n",
      "Validation Accuracy = 0.991\n",
      "\n",
      "EPOCH 55 ...\n",
      "Validation Accuracy = 0.992\n",
      "\n",
      "EPOCH 56 ...\n",
      "Validation Accuracy = 0.992\n",
      "\n",
      "EPOCH 57 ...\n",
      "Validation Accuracy = 0.992\n",
      "\n",
      "EPOCH 58 ...\n",
      "Validation Accuracy = 0.992\n",
      "\n",
      "EPOCH 59 ...\n",
      "Validation Accuracy = 0.993\n",
      "\n",
      "EPOCH 60 ...\n",
      "Validation Accuracy = 0.992\n",
      "\n",
      "Model saved\n"
     ]
    }
   ],
   "source": [
    "with tf.Session() as sess:\n",
    "    sess.run(tf.global_variables_initializer())\n",
    "    num_examples = len(X_train)\n",
    "    \n",
    "    print(\"Training...\")\n",
    "    print()\n",
    "    for i in range(EPOCHS):\n",
    "        X_train, y_train = shuffle(X_train, y_train)\n",
    "        for offset in range(0, num_examples, BATCH_SIZE):\n",
    "            end = offset + BATCH_SIZE\n",
    "            batch_x, batch_y = X_train[offset:end], y_train[offset:end]\n",
    "            sess.run(training_operation, feed_dict={x: batch_x, y: batch_y, keep_prob:0.5})\n",
    "            \n",
    "        validation_accuracy = evaluate(X_valid, y_valid)\n",
    "        print(\"EPOCH {} ...\".format(i+1))\n",
    "        print(\"Validation Accuracy = {:.3f}\".format(validation_accuracy))\n",
    "        print()\n",
    "        \n",
    "    saver.save(sess, './lenet')\n",
    "    print(\"Model saved\")"
   ]
  },
  {
   "cell_type": "markdown",
   "metadata": {},
   "source": [
    "## Evaluate the Model\n",
    "Once you are completely satisfied with your model, evaluate the performance of the model on the test set.\n",
    "\n",
    "Be sure to only do this once!\n",
    "\n",
    "If you were to measure the performance of your trained model on the test set, then improve your model, and then measure the performance of your model on the test set again, that would invalidate your test results. You wouldn't get a true measure of how well your model would perform against real data.\n",
    "\n",
    "You do not need to modify this section."
   ]
  },
  {
   "cell_type": "code",
   "execution_count": 31,
   "metadata": {
    "collapsed": false
   },
   "outputs": [
    {
     "name": "stdout",
     "output_type": "stream",
     "text": [
      "Test Accuracy = 0.910\n"
     ]
    }
   ],
   "source": [
    "import tensorflow as tf\n",
    "with tf.Session() as sess:\n",
    "    saver.restore(sess, tf.train.latest_checkpoint('.'))\n",
    "    test_accuracy = evaluate(X_test, y_test)\n",
    "    print(\"Test Accuracy = {:.3f}\".format(test_accuracy))"
   ]
  },
  {
   "cell_type": "markdown",
   "metadata": {
    "collapsed": false
   },
   "source": [
    "#### Test the Model On New Images\n",
    "\n",
    "In this section, I am using random Germen traffic signes I downloaded from the internet to test my model on. "
   ]
  },
  {
   "cell_type": "code",
   "execution_count": 32,
   "metadata": {
    "collapsed": false
   },
   "outputs": [
    {
     "data": {
      "image/png": "[encoded data removed]",
      "text/plain": [
       "<matplotlib.figure.Figure at 0x7f69d3996cf8>"
      ]
     },
     "metadata": {},
     "output_type": "display_data"
    }
   ],
   "source": [
    "import glob\n",
    "images = [cv2.imread(file) for file in glob.glob(\"./WebImages/*.png\")]\n",
    "\n",
    "fig, axs = plt.subplots(1,6, figsize=(10, 3))\n",
    "\n",
    "for i in range(len(images)):\n",
    "    axs[i].axis('off')\n",
    "    axs[i].imshow(images[i].squeeze(), cmap='gray')\n",
    "\n",
    "\n"
   ]
  },
  {
   "cell_type": "code",
   "execution_count": 33,
   "metadata": {
    "collapsed": false
   },
   "outputs": [
    {
     "name": "stdout",
     "output_type": "stream",
     "text": [
      "0\n",
      "(32, 32, 4)\n",
      "1\n",
      "(32, 32, 4)\n",
      "2\n",
      "(32, 32, 4)\n",
      "3\n",
      "(32, 32, 4)\n",
      "4\n",
      "(32, 32, 4)\n",
      "5\n",
      "(32, 32, 4)\n",
      "(6, 32, 32, 4)\n"
     ]
    }
   ],
   "source": [
    "import PIL\n",
    "from PIL import Image\n",
    "\n",
    "import os\n",
    "image_list = os.listdir(\"./WebImages/\")\n",
    "Web_imgs = []\n",
    "Web_Test = []\n",
    "for i in range(len(image_list)):\n",
    "    print(i)\n",
    "    img = Image.open(\"./WebImages/\" + image_list[i])\n",
    "    img = img.resize((32,32), Image.ANTIALIAS)\n",
    "\n",
    "    img = np.asarray(img)\n",
    "    print(img.shape)\n",
    "    Web_imgs.append(img)\n",
    "    \n",
    "Web_Test = np.asarray(Web_imgs)\n",
    "print(Web_Test.shape)"
   ]
  },
  {
   "cell_type": "code",
   "execution_count": null,
   "metadata": {
    "collapsed": false
   },
   "outputs": [],
   "source": [
    "\n",
    "\n"
   ]
  },
  {
   "cell_type": "code",
   "execution_count": 34,
   "metadata": {
    "collapsed": false
   },
   "outputs": [
    {
     "name": "stdout",
     "output_type": "stream",
     "text": [
      "(6, 32, 32, 1)\n"
     ]
    },
    {
     "data": {
      "image/png": "[encoded data removed]",
      "text/plain": [
       "<matplotlib.figure.Figure at 0x7f69c39f4080>"
      ]
     },
     "metadata": {},
     "output_type": "display_data"
    }
   ],
   "source": [
    "#Convert to Grascale\n",
    "Web_Test = greyscale(Web_Test)\n",
    "Web_Test = normalize(Web_Test)\n",
    "\n",
    "fig, axs = plt.subplots(1,6, figsize=(10, 3))\n",
    "\n",
    "for i in range(len(Web_Test)):\n",
    "    axs[i].axis('off')\n",
    "    axs[i].imshow(Web_Test[i].squeeze(), cmap='gray')\n",
    "    \n",
    "print(Web_Test.shape)"
   ]
  },
  {
   "cell_type": "code",
   "execution_count": 70,
   "metadata": {
    "collapsed": false
   },
   "outputs": [],
   "source": [
    "\n",
    "\n",
    "#Create the Image Labels\n",
    "\n",
    "\n",
    "Web_labels = [12,38,34,3,1,25]"
   ]
  },
  {
   "cell_type": "code",
   "execution_count": 71,
   "metadata": {
    "collapsed": false
   },
   "outputs": [
    {
     "name": "stdout",
     "output_type": "stream",
     "text": [
      "Test Accuracy = 1.000\n"
     ]
    }
   ],
   "source": [
    "with tf.Session() as sess:\n",
    "    saver.restore(sess, tf.train.latest_checkpoint('.'))\n",
    "    test_accuracy = evaluate(Web_Test, Web_labels)\n",
    "    print(\"Test Accuracy = {:.3f}\".format(test_accuracy))"
   ]
  },
  {
   "cell_type": "code",
   "execution_count": 72,
   "metadata": {
    "collapsed": false
   },
   "outputs": [
    {
     "name": "stdout",
     "output_type": "stream",
     "text": [
      "Tensor(\"add_6:0\", shape=(?, 43), dtype=float32)\n"
     ]
    }
   ],
   "source": [
    "print(logits)"
   ]
  },
  {
   "cell_type": "markdown",
   "metadata": {},
   "source": [
    "#### Output Top 5 Softmax Probabilities For Each Image Found on the Web\n",
    "\n",
    "Here, I am displaying the top 5 Softmax for each test image I downloaded from the web. \n"
   ]
  },
  {
   "cell_type": "code",
   "execution_count": 80,
   "metadata": {
    "collapsed": false
   },
   "outputs": [
    {
     "name": "stdout",
     "output_type": "stream",
     "text": [
      "[[  0.00000000e+00   2.93491650e-38   1.84554226e-24   3.04730341e-24\n",
      "    0.00000000e+00   1.90734561e-25   1.14085033e-32   2.39247088e-21\n",
      "    5.80405681e-36   6.40473179e-29   1.67290428e-29   6.21689434e-30\n",
      "    1.00000000e+00   4.85055876e-30   3.53527175e-31   6.66680659e-14\n",
      "    0.00000000e+00   0.00000000e+00   1.27956764e-35   0.00000000e+00\n",
      "    4.88519932e-34   1.08083111e-26   0.00000000e+00   9.90030615e-35\n",
      "    1.82455091e-37   3.27852371e-30   1.18536357e-34   0.00000000e+00\n",
      "    2.95303543e-20   2.11368988e-24   4.64140257e-27   0.00000000e+00\n",
      "    1.26748627e-19   7.27813158e-31   8.00052533e-35   1.37660242e-22\n",
      "    1.95609230e-36   1.66074024e-37   1.40602684e-28   9.36781387e-34\n",
      "    4.21554192e-22   2.76572316e-25   9.19865619e-33]\n",
      " [  0.00000000e+00   0.00000000e+00   0.00000000e+00   0.00000000e+00\n",
      "    0.00000000e+00   0.00000000e+00   0.00000000e+00   0.00000000e+00\n",
      "    0.00000000e+00   0.00000000e+00   0.00000000e+00   0.00000000e+00\n",
      "    0.00000000e+00   1.13775703e-30   0.00000000e+00   0.00000000e+00\n",
      "    0.00000000e+00   0.00000000e+00   0.00000000e+00   0.00000000e+00\n",
      "    0.00000000e+00   0.00000000e+00   0.00000000e+00   0.00000000e+00\n",
      "    0.00000000e+00   0.00000000e+00   0.00000000e+00   0.00000000e+00\n",
      "    0.00000000e+00   0.00000000e+00   0.00000000e+00   0.00000000e+00\n",
      "    0.00000000e+00   0.00000000e+00   0.00000000e+00   0.00000000e+00\n",
      "    0.00000000e+00   0.00000000e+00   1.00000000e+00   0.00000000e+00\n",
      "    0.00000000e+00   0.00000000e+00   0.00000000e+00]\n",
      " [  7.20114555e-36   1.48793004e-35   0.00000000e+00   8.92779849e-32\n",
      "    0.00000000e+00   1.25006291e-38   4.39178296e-32   0.00000000e+00\n",
      "    1.29460402e-31   5.77700213e-27   7.00512716e-33   7.46540005e-33\n",
      "    7.25555962e-33   8.44682922e-26   1.93860571e-36   2.17004677e-32\n",
      "    2.98960374e-33   1.69258134e-26   9.65930502e-37   8.63609435e-34\n",
      "    6.35433733e-35   3.14221826e-28   8.03188921e-30   2.66093929e-31\n",
      "    3.82965095e-37   8.24397893e-35   0.00000000e+00   0.00000000e+00\n",
      "    6.55201548e-29   4.94184208e-34   4.33664608e-24   0.00000000e+00\n",
      "    1.37128446e-27   0.00000000e+00   1.00000000e+00   3.59725180e-23\n",
      "    6.04270180e-22   0.00000000e+00   1.08670615e-18   1.12319511e-36\n",
      "    1.74555654e-34   1.12768170e-28   9.00795615e-31]\n",
      " [  2.07242711e-21   5.48734244e-15   2.78783590e-02   9.72101033e-01\n",
      "    6.08957604e-21   1.37633299e-13   5.36875063e-19   4.33058983e-23\n",
      "    3.70140347e-26   1.68746756e-05   2.13315978e-08   2.04162011e-14\n",
      "    1.03995334e-21   3.23327345e-06   2.56906059e-23   6.67080480e-09\n",
      "    2.73517298e-12   2.79521286e-19   6.07129023e-16   9.36833389e-11\n",
      "    2.07358636e-24   1.02502737e-11   2.52480563e-16   6.18303020e-10\n",
      "    6.66211608e-29   1.36480481e-13   6.89562679e-22   4.28568293e-27\n",
      "    2.17900963e-17   5.02027185e-25   4.37637272e-24   1.01212213e-14\n",
      "    1.03989827e-20   1.36675427e-19   6.86637043e-19   3.03909019e-07\n",
      "    2.41423409e-11   2.30024710e-09   8.36840464e-09   3.70568246e-12\n",
      "    1.17640383e-15   1.06006948e-11   1.75479723e-22]\n",
      " [  4.46661460e-07   9.99986529e-01   1.30422877e-05   1.32941429e-15\n",
      "    2.58734684e-13   8.67896699e-10   7.27647558e-17   8.09231504e-20\n",
      "    3.36310182e-19   5.40893183e-14   4.54276012e-18   1.04866078e-15\n",
      "    3.58063965e-22   1.54027554e-18   1.37375734e-13   3.09341925e-17\n",
      "    7.69292510e-21   4.27840064e-18   3.30215573e-20   3.93041244e-25\n",
      "    4.35400992e-31   5.28748398e-22   1.86877239e-27   1.82994963e-14\n",
      "    2.75432449e-26   5.00704784e-13   6.26992098e-30   3.48714353e-29\n",
      "    7.01867779e-17   1.33216300e-19   1.31384695e-21   1.66326608e-15\n",
      "    6.38466909e-21   3.02537193e-16   5.28197202e-25   3.30235817e-12\n",
      "    2.01110010e-24   1.16630529e-15   7.47614064e-15   1.12791983e-14\n",
      "    1.35361788e-17   1.57975050e-20   4.09592359e-26]\n",
      " [  8.02581254e-18   2.01596785e-15   9.67058871e-14   2.91258822e-15\n",
      "    1.20006048e-17   1.00295030e-13   1.13913824e-22   1.15328067e-26\n",
      "    5.79850321e-28   4.11583270e-14   3.35259876e-15   7.23693120e-06\n",
      "    1.84191667e-20   2.03949897e-14   6.90346457e-20   8.35274639e-20\n",
      "    1.01891856e-22   1.66348982e-17   4.67860737e-05   8.77362939e-12\n",
      "    2.74914152e-13   7.45407363e-07   3.71906790e-04   5.69906566e-09\n",
      "    7.60879075e-08   9.99568999e-01   2.02212988e-07   6.44888196e-15\n",
      "    5.29900491e-14   4.21179269e-09   2.10578889e-07   2.71357964e-10\n",
      "    3.74205240e-21   9.93639741e-13   1.24049472e-17   5.34896597e-14\n",
      "    6.38064956e-18   3.83220276e-06   3.30345329e-09   2.54512189e-09\n",
      "    3.73995756e-12   5.50981433e-16   4.68576511e-22]]\n",
      "TopKV2(values=array([[  1.00000000e+00,   6.66680659e-14,   1.26748627e-19,\n",
      "          2.95303543e-20,   2.39247088e-21],\n",
      "       [  1.00000000e+00,   1.13775703e-30,   0.00000000e+00,\n",
      "          0.00000000e+00,   0.00000000e+00],\n",
      "       [  1.00000000e+00,   1.08670615e-18,   6.04270180e-22,\n",
      "          3.59725180e-23,   4.33664608e-24],\n",
      "       [  9.72101033e-01,   2.78783590e-02,   1.68746756e-05,\n",
      "          3.23327345e-06,   3.03909019e-07],\n",
      "       [  9.99986529e-01,   1.30422877e-05,   4.46661460e-07,\n",
      "          8.67896699e-10,   3.30235817e-12],\n",
      "       [  9.99568999e-01,   3.71906790e-04,   4.67860737e-05,\n",
      "          7.23693120e-06,   3.83220276e-06]], dtype=float32), indices=array([[12, 15, 32, 28,  7],\n",
      "       [38, 13,  0,  1,  2],\n",
      "       [34, 38, 36, 35, 30],\n",
      "       [ 3,  2,  9, 13, 35],\n",
      "       [ 1,  2,  0,  5, 35],\n",
      "       [25, 22, 18, 11, 37]], dtype=int32))\n",
      "[[12 15 32 28  7]\n",
      " [38 13  0  1  2]\n",
      " [34 38 36 35 30]\n",
      " [ 3  2  9 13 35]\n",
      " [ 1  2  0  5 35]\n",
      " [25 22 18 11 37]]\n"
     ]
    }
   ],
   "source": [
    "softmax = tf.nn.softmax(logits)\n",
    "top_k = tf.nn.top_k(softmax, k=5)\n",
    "\n",
    "with tf.Session() as sess:\n",
    "    sess.run(tf.global_variables_initializer())\n",
    "    saver.restore(sess, tf.train.latest_checkpoint('.'))\n",
    "    softmax_logits = sess.run(softmax, feed_dict={x: Web_Test, keep_prob: 1.0})\n",
    "    print(softmax_logits)\n",
    "    top_k_probs = sess.run(top_k, feed_dict={x: Web_Test, keep_prob: 1.0} )\n",
    "    \n",
    "    print(top_k_probs)\n",
    "    predicted_classes = top_k_probs[1]\n",
    "    prob_classes = top_k_probs[0]\n",
    "    print(predicted_classes)\n",
    "    prediction = []\n",
    "    probs = []\n",
    "    for guess in  predicted_classes:\n",
    "        prediction.append(guess[0])\n",
    "        \n",
    "    for pr in  prob_classes:\n",
    "        probs.append(pr[0] * 100)\n",
    "    \n",
    "    #print(prediction)"
   ]
  },
  {
   "cell_type": "markdown",
   "metadata": {},
   "source": [
    "Below, you can see the actual classes that I assigned to my images agaist the predicted classes. The model got all the images correct. "
   ]
  },
  {
   "cell_type": "code",
   "execution_count": 81,
   "metadata": {
    "collapsed": false
   },
   "outputs": [
    {
     "name": "stdout",
     "output_type": "stream",
     "text": [
      "Actual Classes : \n",
      "[12, 38, 34, 3, 1, 25]\n",
      "Predictions    : \n",
      "[12, 38, 34, 3, 1, 25]\n",
      "Probabilities    : \n",
      "[100.0, 100.0, 100.0, 97.210103273391724, 99.998652935028076, 99.956899881362915]\n"
     ]
    }
   ],
   "source": [
    "print(\"Actual Classes : \")\n",
    "print(Web_labels)\n",
    "print(\"Predictions    : \")\n",
    "print(prediction)\n",
    "\n",
    "print(\"Probabilities    : \")\n",
    "print(probs)"
   ]
  },
  {
   "cell_type": "code",
   "execution_count": 82,
   "metadata": {
    "collapsed": true
   },
   "outputs": [],
   "source": [
    "## Get sample image of a given class\n",
    "\n",
    "def getSampleImage(index):\n",
    "    class_indices = np.where(y_train == index)\n",
    "    return X_train[class_indices[0][0]]\n"
   ]
  },
  {
   "cell_type": "code",
   "execution_count": 105,
   "metadata": {
    "collapsed": false
   },
   "outputs": [
    {
     "data": {
      "image/png": "[encoded data removed]",
      "text/plain": [
       "<matplotlib.figure.Figure at 0x7f6a1293cef0>"
      ]
     },
     "metadata": {},
     "output_type": "display_data"
    }
   ],
   "source": [
    "# Here I am displaying how the model predicted the first image\n",
    "fig, axs = plt.subplots(6,6, figsize=(12, 14))\n",
    "axs = axs.flatten()\n",
    "for i in range(6):\n",
    "    axs[6*i].axis('off')\n",
    "    axs[6*i].imshow(Web_Test[i].squeeze(), cmap='gray')\n",
    "    axs[6*i].set_title('input')\n",
    "\n",
    "    axs[6*i + 1].axis('off')\n",
    "    axs[6*i + 1].imshow(getSampleImage(predicted_classes[i][0]).squeeze(), cmap='gray')\n",
    "    axs[6*i + 1].set_title('1st : {} ({:.0f}%)'.format(predicted_classes[i][0], prob_classes[i][0] * 100))\n",
    "\n",
    "    axs[6*i + 2].axis('off')\n",
    "    axs[6*i + 2].imshow(getSampleImage(predicted_classes[0][1]).squeeze(), cmap='gray')\n",
    "    axs[6*i + 2].set_title('2nd : {} ({:.0f}%)'.format(predicted_classes[i][1], prob_classes[i][1] * 100))\n",
    "\n",
    "    axs[6*i + 3].axis('off')\n",
    "    axs[6*i + 3].imshow(getSampleImage(predicted_classes[0][2]).squeeze(), cmap='gray')\n",
    "    axs[6*i + 3].set_title('3rd : {} ({:.0f}%)'.format(predicted_classes[i][2], prob_classes[i][2] * 100))\n",
    "\n",
    "    axs[6*i + 4].axis('off')\n",
    "    axs[6*i + 4].imshow(getSampleImage(predicted_classes[0][3]).squeeze(), cmap='gray')\n",
    "    axs[6*i + 4].set_title('4th : {} ({:.0f}%)'.format(predicted_classes[i][3], prob_classes[i][3] * 100))\n",
    "\n",
    "    axs[6*i + 5].axis('off')\n",
    "    axs[6*i + 5].imshow(getSampleImage(predicted_classes[0][4]).squeeze(), cmap='gray')\n",
    "    axs[6*i + 5].set_title('5th : {} ({:.0f}%)'.format(predicted_classes[i][4], prob_classes[i][4] * 100))\n"
   ]
  },
  {
   "cell_type": "code",
   "execution_count": null,
   "metadata": {
    "collapsed": true
   },
   "outputs": [],
   "source": []
  }
 ],
 "metadata": {
  "anaconda-cloud": {},
  "kernelspec": {
   "display_name": "Python 3",
   "language": "python",
   "name": "python3"
  },
  "language_info": {
   "codemirror_mode": {
    "name": "ipython",
    "version": 3
   },
   "file_extension": ".py",
   "mimetype": "text/x-python",
   "name": "python",
   "nbconvert_exporter": "python",
   "pygments_lexer": "ipython3",
   "version": "3.5.2"
  },
  "widgets": {
   "state": {},
   "version": "1.1.2"
  }
 },
 "nbformat": 4,
 "nbformat_minor": 0
}
